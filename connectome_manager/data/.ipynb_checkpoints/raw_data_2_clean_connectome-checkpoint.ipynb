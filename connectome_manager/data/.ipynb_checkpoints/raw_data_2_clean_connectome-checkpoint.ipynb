{
 "cells": [
  {
   "cell_type": "code",
   "execution_count": 98,
   "metadata": {
    "collapsed": false,
    "deletable": true,
    "editable": true
   },
   "outputs": [],
   "source": [
    "import pandas as pd\n",
    "import numpy as np\n",
    "import pickle as p"
   ]
  },
  {
   "cell_type": "code",
   "execution_count": 99,
   "metadata": {
    "collapsed": false,
    "deletable": true,
    "editable": true
   },
   "outputs": [],
   "source": [
    "connectome = pd.read_csv(\"connectome_raw_data/Connectome.csv\",sep=\";\")\n",
    "muscles = pd.read_csv(\"connectome_raw_data/NeuronsToMuscle.csv\",sep=\";\")\n",
    "sensor = pd.read_csv(\"connectome_raw_data/Sensory.csv\",sep=\";\")"
   ]
  },
  {
   "cell_type": "markdown",
   "metadata": {
    "deletable": true,
    "editable": true
   },
   "source": [
    "# Neurotransmitters values"
   ]
  },
  {
   "cell_type": "code",
   "execution_count": 100,
   "metadata": {
    "collapsed": false,
    "deletable": true,
    "editable": true
   },
   "outputs": [],
   "source": [
    "\n",
    "neurotransmitters = {}\n",
    "neurotransmitters_connectome = set(np.unique(connectome[\"Neurotransmitter\"]))\n",
    "neurotransmitters_muscle = set(np.unique(muscles[\"Neurotransmitter\"]))\n",
    "neurotransmitters_sensor = set(np.unique(sensor[\"Neurotransmitter\"]))\n",
    "neurotransmitters_full = neurotransmitters_connectome.union(neurotransmitters_muscle)\n",
    "neurotransmitters_full = neurotransmitters_full.union(neurotransmitters_sensor)\n",
    "neurotransmitters_list = list(neurotransmitters_full)\n",
    "for neurotransmitter in neurotransmitters_list:\n",
    "    neurotransmitters[str(neurotransmitter)] = 1\n",
    "p.dump(neurotransmitters, open(\"connectome_clean_data/Neurotransmiters_2_coefficient.pickle\",\"wb\"))\n"
   ]
  },
  {
   "cell_type": "markdown",
   "metadata": {
    "deletable": true,
    "editable": true
   },
   "source": [
    "# Muscular cells to motor"
   ]
  },
  {
   "cell_type": "code",
   "execution_count": 62,
   "metadata": {
    "collapsed": false,
    "deletable": true,
    "editable": true
   },
   "outputs": [],
   "source": [
    "right_muscles = [\"MDR\",\"MVR\"]\n",
    "left_muscles = [\"MDL\",\"MVL\"]\n",
    "muscular_cells = np.unique(muscles[\"Muscle\"])\n",
    "muscle_2_motor = {}\n",
    "for muscular_cell in muscular_cells:\n",
    "    for rm in right_muscles:\n",
    "        if rm in muscular_cell:\n",
    "            muscle_2_motor[muscular_cell] = \"MOTOR_RIGHT\"\n",
    "    for lm in left_muscles:\n",
    "        if lm in muscular_cell:\n",
    "            muscle_2_motor[muscular_cell] = \"MOTOR_LEFT\"\n",
    "p.dump(muscle_2_motor, open(\"connectome_clean_data/muscle_2_motor.pickle\",\"wb\"))"
   ]
  },
  {
   "cell_type": "markdown",
   "metadata": {
    "deletable": true,
    "editable": true
   },
   "source": [
    "# Clean neuron to muscle"
   ]
  },
  {
   "cell_type": "code",
   "execution_count": 97,
   "metadata": {
    "collapsed": false,
    "deletable": true,
    "editable": true
   },
   "outputs": [],
   "source": [
    "muscles = muscles[[\"Neuron\", \"Muscle\", \"Number of Connections\", \"Neurotransmitter\"]]\n",
    "muscles.to_csv(\"connectome_clean_data/Neurons_to_Muscles.csv\")"
   ]
  },
  {
   "cell_type": "markdown",
   "metadata": {
    "deletable": true,
    "editable": true
   },
   "source": [
    "# Clean connectome"
   ]
  },
  {
   "cell_type": "code",
   "execution_count": 91,
   "metadata": {
    "collapsed": false,
    "deletable": true,
    "editable": true
   },
   "outputs": [],
   "source": [
    "connectome = connectome[[\"Origin\", \"Target\",\"Number of Connections\",\"Neurotransmitter\"]]\n",
    "connectome.to_csv(\"connectome_clean_data/Connectome.csv\")"
   ]
  },
  {
   "cell_type": "markdown",
   "metadata": {
    "deletable": true,
    "editable": true
   },
   "source": [
    "# Sensory to sensors"
   ]
  },
  {
   "cell_type": "code",
   "execution_count": 77,
   "metadata": {
    "collapsed": false,
    "deletable": true,
    "editable": true
   },
   "outputs": [],
   "source": [
    "ultra_sounds = \"ULTRA_SOUND\"\n",
    "sensory_cells_to_sensors = {}\n",
    "for sensory_cell in np.unique(sensor[\"Function\"]):\n",
    "    senrory_cell_clean = \"|\".join(\"\".join(str(sensory_cell).split()).split(\",\"))\n",
    "    sensory_cells_to_sensors[senrory_cell_clean] = ultra_sounds\n",
    "p.dump(sensory_cells_to_sensors,open(\"connectome_clean_data/sensory_2_sensors.pickle\",\"wb\"))"
   ]
  },
  {
   "cell_type": "markdown",
   "metadata": {
    "deletable": true,
    "editable": true
   },
   "source": [
    "# Clean sensory"
   ]
  },
  {
   "cell_type": "code",
   "execution_count": 92,
   "metadata": {
    "collapsed": false,
    "deletable": true,
    "editable": true
   },
   "outputs": [],
   "source": [
    "clean_sensory = [\"|\".join(\"\".join(str(sensory_cell).split()).split(\",\")) for sensory_cell in sensor[\"Function\"]]\n",
    "#neurotransmitter_values = np.asarray(map(neurotransmitters_values.get,sensor[\"Neurotransmitter\"]))\n",
    "sensor[\"Function\"] = clean_sensory\n",
    "#sensor[\"Weight\"] = neurotransmitter_values * sensor[\"Weight\"]\n",
    "sensor = sensor[[\"Function\",\"Neuron\",\"Weight\", \"Neurotransmitter\"]]\n",
    "sensor.to_csv(\"connectome_clean_data/Sensory.csv\")"
   ]
  }
 ],
 "metadata": {
  "kernelspec": {
   "display_name": "Python 2",
   "language": "python",
   "name": "python2"
  },
  "language_info": {
   "codemirror_mode": {
    "name": "ipython",
    "version": 2
   },
   "file_extension": ".py",
   "mimetype": "text/x-python",
   "name": "python",
   "nbconvert_exporter": "python",
   "pygments_lexer": "ipython2",
   "version": "2.7.12"
  }
 },
 "nbformat": 4,
 "nbformat_minor": 2
}
